{
 "cells": [
  {
   "cell_type": "code",
   "execution_count": 12,
   "metadata": {},
   "outputs": [
    {
     "name": "stdout",
     "output_type": "stream",
     "text": [
      "3\n",
      "<class 'int'>\n",
      "I have a number: 3.\n",
      "h\n",
      "have a number:\n",
      "Ihv  ubr .\n",
      ".3 :rebmun a evah I\n"
     ]
    }
   ],
   "source": [
    "num_1 = 3 # int\n",
    "num_2 = \"5\" # str\n",
    "num_3 = 4.0 # floats\n",
    "\n",
    "# str()\n",
    "# int()\n",
    "# float()\n",
    "\n",
    "type_num_1 = type(num_1)\n",
    "print(num_1)\n",
    "print(type_num_1)\n",
    "\n",
    "#formatted string\n",
    "string_1 = f'I have a number: {num_1}.'\n",
    "\n",
    "#normal concatenated string\n",
    "string_2 = 'I have a number: ' + str(num_1) + '.'\n",
    "\n",
    "print(string_1)\n",
    "\n",
    "substring_1 = string_1[2]\n",
    "print(substring_1)\n",
    "\n",
    "# [ start : stop : step ]\n",
    "substring_2 = string_1[2:-3]\n",
    "print(substring_2)\n",
    "\n",
    "substring_3 = string_1[::2]\n",
    "print(substring_3)\n",
    "\n",
    "reverse_string = string_1[-1::-1]\n",
    "print(reverse_string)\n"
   ]
  },
  {
   "cell_type": "code",
   "execution_count": 11,
   "metadata": {},
   "outputs": [
    {
     "name": "stdout",
     "output_type": "stream",
     "text": [
      "<class 'list'>\n",
      "orange\n"
     ]
    }
   ],
   "source": [
    "list_1 = []\n",
    "print(type(list_1))\n",
    "\n",
    "colours = [\"green\", \"yellow\", \"orange\"]\n",
    "print (colours[-1])"
   ]
  },
  {
   "cell_type": "code",
   "execution_count": 7,
   "metadata": {},
   "outputs": [
    {
     "name": "stdout",
     "output_type": "stream",
     "text": [
      "['bread', 'apples', 'crisps']\n",
      "['bread', 'apples', 'crisps', 'corn flakes']\n",
      "['bread', 'apples', 'crisps', 'corn flakes', ['oranges', 'kiwi', 'bananas']]\n"
     ]
    }
   ],
   "source": [
    "#EXCERCISE 1\n",
    "\n",
    "foods = [\"bread\", \"apples\", \"crisps\"]\n",
    "print (foods)\n",
    "\n",
    "foods.append(\"corn flakes\")\n",
    "print (foods)\n",
    "\n",
    "extra_foods = [\"oranges\", \"kiwi\", \"bananas\"]\n",
    "foods.append (extra_foods)\n",
    "print(foods)\n"
   ]
  },
  {
   "cell_type": "code",
   "execution_count": 17,
   "metadata": {},
   "outputs": [
    {
     "name": "stdout",
     "output_type": "stream",
     "text": [
      "['burger', 'pizza', 'chips', 'sausages', 'noodles']\n"
     ]
    }
   ],
   "source": [
    "# In this cell, make a list of a few foods and print it.\n",
    "food = [\"burger\", \"pizza\", \"chips\"]\n",
    "# Then append the list with another food and print it.\n",
    "food.append(\"sausages\")\n",
    "# Next, make another list of foods, and use the extend method to \n",
    "# add those extra foods as individual elements of the list, and print it.\n",
    "food.extend([\"noodles\", \"pasty\"])\n",
    "# Finally, remove and element from the list and print the final list.\n",
    "# Remember to always use a suitable name for your lists!\n",
    "food.remove(\"pasty\")\n",
    "\n",
    "print(food)"
   ]
  },
  {
   "cell_type": "code",
   "execution_count": 16,
   "metadata": {},
   "outputs": [
    {
     "name": "stdout",
     "output_type": "stream",
     "text": [
      "{'Name': 'Dud', 'Age': 48, 'Pets': 1, 'Food': ['bread', 'apples', 'crisps', 'corn flakes', ['oranges', 'kiwi', 'bananas']], 'Sport': 'football'}\n",
      "['bread', 'apples', 'crisps', 'corn flakes', ['oranges', 'kiwi', 'bananas']]\n",
      "football\n"
     ]
    }
   ],
   "source": [
    "#EXERCISE 2\n",
    "\n",
    "dud = {\"Name\":\"Dud\",\n",
    "       \"Age\": 48,\n",
    "       \"Pets\": 1,\n",
    "       \"Food\": foods,\n",
    "       \"Sport\": \"football\",}\n",
    "       #\"Colours\": colours}\n",
    "print(dud)\n",
    "\n",
    "print (dud[\"Food\"])\n",
    "print (dud [\"Sport\"])"
   ]
  },
  {
   "cell_type": "code",
   "execution_count": 17,
   "metadata": {},
   "outputs": [
    {
     "ename": "NameError",
     "evalue": "name 'food' is not defined",
     "output_type": "error",
     "traceback": [
      "\u001b[0;31m---------------------------------------------------------------------------\u001b[0m",
      "\u001b[0;31mNameError\u001b[0m                                 Traceback (most recent call last)",
      "Cell \u001b[0;32mIn[17], line 5\u001b[0m\n\u001b[1;32m      1\u001b[0m \u001b[38;5;66;03m# dict_1 = {key:value , key:value}\u001b[39;00m\n\u001b[1;32m      2\u001b[0m will \u001b[38;5;241m=\u001b[39m {\u001b[38;5;124m\"\u001b[39m\u001b[38;5;124mName\u001b[39m\u001b[38;5;124m\"\u001b[39m:\u001b[38;5;124m\"\u001b[39m\u001b[38;5;124mWill\u001b[39m\u001b[38;5;124m\"\u001b[39m, \n\u001b[1;32m      3\u001b[0m         \u001b[38;5;124m\"\u001b[39m\u001b[38;5;124mAge\u001b[39m\u001b[38;5;124m\"\u001b[39m:\u001b[38;5;241m30\u001b[39m, \n\u001b[1;32m      4\u001b[0m         \u001b[38;5;124m\"\u001b[39m\u001b[38;5;124mPets\u001b[39m\u001b[38;5;124m\"\u001b[39m:\u001b[38;5;124m\"\u001b[39m\u001b[38;5;124m1\u001b[39m\u001b[38;5;124m\"\u001b[39m, \n\u001b[0;32m----> 5\u001b[0m         \u001b[38;5;124m\"\u001b[39m\u001b[38;5;124mFood\u001b[39m\u001b[38;5;124m\"\u001b[39m:\u001b[43mfood\u001b[49m,\n\u001b[1;32m      6\u001b[0m         \u001b[38;5;124m\"\u001b[39m\u001b[38;5;124mSport\u001b[39m\u001b[38;5;124m\"\u001b[39m:\u001b[38;5;124m\"\u001b[39m\u001b[38;5;124mRunning\u001b[39m\u001b[38;5;124m\"\u001b[39m,\n\u001b[1;32m      7\u001b[0m         \u001b[38;5;124m\"\u001b[39m\u001b[38;5;124mColours\u001b[39m\u001b[38;5;124m\"\u001b[39m:colours}\n\u001b[1;32m      8\u001b[0m \u001b[38;5;28mprint\u001b[39m(will)\n\u001b[1;32m     10\u001b[0m \u001b[38;5;28mprint\u001b[39m(will[\u001b[38;5;124m\"\u001b[39m\u001b[38;5;124mSport\u001b[39m\u001b[38;5;124m\"\u001b[39m])\n",
      "\u001b[0;31mNameError\u001b[0m: name 'food' is not defined"
     ]
    }
   ],
   "source": [
    "#WILL'S ANSWER to Exercise 2...\n",
    "\n",
    "# dict_1 = {key:value , key:value}\n",
    "will = {\"Name\":\"Will\", \n",
    "        \"Age\":30, \n",
    "        \"Pets\":\"1\", \n",
    "        \"Food\":food,\n",
    "        \"Sport\":\"Running\",\n",
    "        \"Colours\":colours}\n",
    "print(will)\n",
    "\n",
    "print(will[\"Sport\"])\n",
    "print(will[\"Food\"])\n",
    "\n",
    "# Make a similar dictionary for yourself with keys such as name, food etc, print out some keys"
   ]
  },
  {
   "cell_type": "code",
   "execution_count": 28,
   "metadata": {},
   "outputs": [
    {
     "name": "stdout",
     "output_type": "stream",
     "text": [
      "dict_keys(['Ash', 'Big V', 'Macca'])\n",
      "dict_items([('Ash', 'Painter'), ('Big V', 'Plumber'), ('Macca', ['Builder', 'Decorator'])])\n",
      "dict_values(['Painter', 'Plumber', ['Builder', 'Decorator']])\n",
      "{'Ash': 'Painter', 'Big V': 'Plumber', 'Macca': ['Builder', 'Decorator'], 'Dr Carl': 'Sparky'}\n",
      "True\n"
     ]
    }
   ],
   "source": [
    "#EXERCISE 3\n",
    "\n",
    "Jobs = {\"Ash\": \"Painter\",\n",
    "        \"Big V\": \"Plumber\",\n",
    "        \"Macca\": [\"Builder\",\"Decorator\"] }\n",
    "\n",
    "print(Jobs.keys())\n",
    "print(Jobs.items())\n",
    "print(Jobs.values())\n",
    "\n",
    "Jobs[\"Dr Carl\"] = \"Sparky\"\n",
    "print(Jobs)\n",
    "\n",
    "print(\"Dr Carl\" in Jobs)"
   ]
  },
  {
   "cell_type": "code",
   "execution_count": 22,
   "metadata": {},
   "outputs": [
    {
     "ename": "NameError",
     "evalue": "name 'colours' is not defined",
     "output_type": "error",
     "traceback": [
      "\u001b[0;31m---------------------------------------------------------------------------\u001b[0m",
      "\u001b[0;31mNameError\u001b[0m                                 Traceback (most recent call last)",
      "Cell \u001b[0;32mIn[22], line 6\u001b[0m\n\u001b[1;32m      1\u001b[0m \u001b[38;5;66;03m# WILL'S ANSWER EX3\u001b[39;00m\n\u001b[1;32m      3\u001b[0m fav_cols \u001b[38;5;241m=\u001b[39m {\u001b[38;5;124m\"\u001b[39m\u001b[38;5;124mWill\u001b[39m\u001b[38;5;124m\"\u001b[39m:\u001b[38;5;124m\"\u001b[39m\u001b[38;5;124mPurple\u001b[39m\u001b[38;5;124m\"\u001b[39m,\n\u001b[1;32m      4\u001b[0m             \u001b[38;5;124m\"\u001b[39m\u001b[38;5;124mAndy\u001b[39m\u001b[38;5;124m\"\u001b[39m:[\u001b[38;5;124m\"\u001b[39m\u001b[38;5;124mPurple\u001b[39m\u001b[38;5;124m\"\u001b[39m, \u001b[38;5;124m\"\u001b[39m\u001b[38;5;124mTeal\u001b[39m\u001b[38;5;124m\"\u001b[39m],\n\u001b[1;32m      5\u001b[0m             \u001b[38;5;124m\"\u001b[39m\u001b[38;5;124mAnnie\u001b[39m\u001b[38;5;124m\"\u001b[39m:{\u001b[38;5;124m\"\u001b[39m\u001b[38;5;124mMonday\u001b[39m\u001b[38;5;124m\"\u001b[39m:\u001b[38;5;124m\"\u001b[39m\u001b[38;5;124mRed\u001b[39m\u001b[38;5;124m\"\u001b[39m,\n\u001b[0;32m----> 6\u001b[0m                      \u001b[38;5;124m\"\u001b[39m\u001b[38;5;124mRest of the week\u001b[39m\u001b[38;5;124m\"\u001b[39m:\u001b[43mcolours\u001b[49m}\n\u001b[1;32m      7\u001b[0m             }\n\u001b[1;32m      9\u001b[0m \u001b[38;5;28mprint\u001b[39m(fav_cols[\u001b[38;5;124m\"\u001b[39m\u001b[38;5;124mAndy\u001b[39m\u001b[38;5;124m\"\u001b[39m][\u001b[38;5;241m0\u001b[39m])\n\u001b[1;32m     11\u001b[0m \u001b[38;5;28mprint\u001b[39m(fav_cols[\u001b[38;5;124m\"\u001b[39m\u001b[38;5;124mAnnie\u001b[39m\u001b[38;5;124m\"\u001b[39m][\u001b[38;5;124m\"\u001b[39m\u001b[38;5;124mRest of the week\u001b[39m\u001b[38;5;124m\"\u001b[39m][\u001b[38;5;241m-\u001b[39m\u001b[38;5;241m1\u001b[39m])\n",
      "\u001b[0;31mNameError\u001b[0m: name 'colours' is not defined"
     ]
    }
   ],
   "source": [
    "# WILL'S ANSWER EX3\n",
    "\n",
    "fav_cols = {\"Will\":\"Purple\",\n",
    "            \"Andy\":[\"Purple\", \"Teal\"],\n",
    "            \"Annie\":{\"Monday\":\"Red\",\n",
    "                     \"Rest of the week\":colours}\n",
    "            }\n",
    "\n",
    "print(fav_cols[\"Andy\"][0])\n",
    "\n",
    "print(fav_cols[\"Annie\"][\"Rest of the week\"][-1])\n",
    "\n",
    "print(fav_cols.keys())\n",
    "\n",
    "print(fav_cols.values())\n",
    "\n",
    "print(fav_cols.items())\n",
    "\n",
    "fav_cols[\"Naiomi\"] = \"Yellow\"\n",
    "print(fav_cols)\n",
    "\n",
    "fav_cols[\"Annie\"] = \"Gold\"\n",
    "print(fav_cols)\n",
    "\n",
    "print(\"annie\" in fav_cols)\n",
    "\n",
    "# MAke a dict of names and job titles, have about 3 entries\n",
    "# Make sure one person has multiple jobs using a dict as their value\n",
    "# print the .keys, .values(), and .items()\n",
    "# add an entry using the name[] syntax\n",
    "# overwrite an entry using the same syntax"
   ]
  },
  {
   "cell_type": "code",
   "execution_count": 27,
   "metadata": {},
   "outputs": [
    {
     "name": "stdout",
     "output_type": "stream",
     "text": [
      "dict_keys(['Will', 'Andy', 'Annie'])\n",
      "dict_values(['Data Manager', 'Retired', {'Mondays': 'Teacher', 'Rest of the week': 'Retired'}])\n",
      "dict_items([('Will', 'Data Manager'), ('Andy', 'Retired'), ('Annie', {'Mondays': 'Teacher', 'Rest of the week': 'Retired'})])\n",
      "{'Will': 'Python Person', 'Andy': 'Retired', 'Annie': {'Mondays': 'Teacher', 'Rest of the week': 'Retired'}, 'Naiomi': 'Policy Writer'}\n"
     ]
    }
   ],
   "source": [
    "# MAke a dict of names and job titles, have about 3 entries\n",
    "jobs = {\"Will\":\"Data Manager\",\n",
    "        \"Andy\":\"Retired\",\n",
    "        \"Annie\":{\"Mondays\":\"Teacher\",\n",
    "                 \"Rest of the week\":\"Retired\"}}\n",
    "# Make sure one person has multiple jobs using a dict as their value\n",
    "# print the .keys, .values(), and .items()\n",
    "print(jobs.keys())\n",
    "print(jobs.values())\n",
    "print(jobs.items())\n",
    "\n",
    "annie_keys = jobs['Annie'].keys()\n",
    "\n",
    "# add an entry using the name[] syntax\n",
    "jobs['Naiomi'] = \"Policy Writer\"\n",
    "# overwrite an entry using the same syntax\n",
    "jobs['Will'] = \"Python Person\"\n",
    "\n",
    "print(jobs)"
   ]
  }
 ],
 "metadata": {
  "kernelspec": {
   "display_name": "Python 3",
   "language": "python",
   "name": "python3"
  },
  "language_info": {
   "codemirror_mode": {
    "name": "ipython",
    "version": 3
   },
   "file_extension": ".py",
   "mimetype": "text/x-python",
   "name": "python",
   "nbconvert_exporter": "python",
   "pygments_lexer": "ipython3",
   "version": "3.10.13"
  }
 },
 "nbformat": 4,
 "nbformat_minor": 2
}
